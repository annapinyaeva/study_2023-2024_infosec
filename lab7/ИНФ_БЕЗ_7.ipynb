{
 "cells": [
  {
   "cell_type": "code",
   "execution_count": 6,
   "id": "8ec566f7",
   "metadata": {},
   "outputs": [
    {
     "name": "stdout",
     "output_type": "stream",
     "text": [
      "Ключ: H3gkDDO6euZ6Lit9QLt8zc\n",
      "Зашифрованный текст: 10001101001000100111000111101010001010101100011101101000000111110001110011000101101000101011010001001011100011011101000000100010001110000010001010101010010000001101100000100011000000111110001000011100011101001000011010101000010\n",
      "Расшифрованный текст: С Новым годом, друзья!\n"
     ]
    }
   ],
   "source": [
    "# Импортируем модули random и string для генерации ключа и работы с символами.\n",
    "import random\n",
    "import string\n",
    "\n",
    "\n",
    "def generate_key(size):\n",
    "    # Генерируем случайный ключ заданного размера из букв и цифр.\n",
    "    characters = string.ascii_letters + string.digits \n",
    "    return ''.join(random.choice(characters) for _ in range(size))\n",
    "\n",
    "def text_to_binary(text):\n",
    "# Преобразуем текст в его бинарное представление, где каждый символ представлен в виде 8-битного бинарного числа.\n",
    "    return ''.join(format(ord(char),'08b')for char in text)\n",
    "\n",
    "def binary_text(binare_str):\n",
    "# Преобразуем бинарную строку обратно в текст, разбивая бинарные числа на группы по 8 бит и преобразуя их в символы.\n",
    "    binary_chunks = [binary_str[i:i+8] for i in range(0, len(binary_str),8)]\n",
    "    return ''.join(chr(int(chunk, 2))for chunk in binary_chunks)\n",
    "\n",
    "def xor_encrypt (text, key):\n",
    "    # Выполняем операцию XOR между символами текста и ключа.\n",
    "    encrypted = [ord(a) ^ ord(b) for a, b in zip(text, key)]\n",
    "    # Преобразуем полученные числа обратно в символы.\n",
    "    return ''.join(chr(encrypted_char)for encrypted_char in encrypted)\n",
    "\n",
    "msg = \"С Новым годом, друзья!\" # Cообщение\n",
    "\n",
    "# Генерируем ключ той же длины, что и сообщение\n",
    "key = generate_key(len(msg))\n",
    "\n",
    "print (\"Ключ:\", key)\n",
    "\n",
    "# Зашифровываем сообщение, используя XOR сгенерированного ключа.\n",
    "msg2 = xor_encrypt(msg, key)\n",
    "\n",
    "# Выводим зашифрованное сообщение в двоичном формате.\n",
    "binary = text_to_binary (msg2)\n",
    "\n",
    "print (\"Зашифрованный текст:\", binary)\n",
    "\n",
    "# Расшифровываем сообщение, используя тот же ключ.\n",
    "msg3 = xor_encrypt (msg2, key)\n",
    "\n",
    "print (\"Расшифрованный текст:\", msg3)\n"
   ]
  },
  {
   "cell_type": "code",
   "execution_count": null,
   "id": "dcf73cd3",
   "metadata": {},
   "outputs": [],
   "source": []
  }
 ],
 "metadata": {
  "kernelspec": {
   "display_name": "Python 3 (ipykernel)",
   "language": "python",
   "name": "python3"
  },
  "language_info": {
   "codemirror_mode": {
    "name": "ipython",
    "version": 3
   },
   "file_extension": ".py",
   "mimetype": "text/x-python",
   "name": "python",
   "nbconvert_exporter": "python",
   "pygments_lexer": "ipython3",
   "version": "3.9.4"
  }
 },
 "nbformat": 4,
 "nbformat_minor": 5
}
